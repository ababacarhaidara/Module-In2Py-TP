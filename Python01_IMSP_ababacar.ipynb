
ababacar = {"Math" : [12, 17 ,14], "C" : [15, 12 ,18], "C++" : [15, 17 ,18], "UML" : [14, 13 ,11]}

MoyM = sum(ababacar["Math"])/len(ababacar["Math"])
MoyC= sum(ababacar["C"])/len(ababacar["C"])
MoyCp = sum(ababacar["C++"])/len(ababacar["C++"])
MoyUML=sum(ababacar["UML"])/len(ababacar["UML"])
MoyAbabacar=sum([MoyM,MoyC,MoyCp,MoyUML])/4
ababacar = {"Math":MoyM,"C":MoyC,"C++":MoyCp,"UML":MoyUML}
print(ababacar.keys())
print(ababacar.values())
print(ababacar)
print("moyenne d'Ababacar : ", MoyAbabacar)


#E0

L=[1, 2, 3 , 4, 5 , 6, 7, 8 , 9 , 10]
l=L+[11]
L.append(22)
L.extend([23,24])
L1=L[::2]
L2=L[1::3]
L[3]=remove.L[3]


#E1

d={ 'nom':['Dupont', 'Jaque'], 'age':30}
print(d.keys())
print(d.values())
a= 'Jacques Dupont'
b= 'a'
c= '30'
f= 'ans'
e= a + ' ' + b + ' ' + str(c) + ' ' + f
print(e)

