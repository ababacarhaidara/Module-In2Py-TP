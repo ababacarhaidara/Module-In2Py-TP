{
 "cells": [
  {
   "cell_type": "code",
   "execution_count": null,
   "id": "da5252d3",
   "metadata": {},
   "outputs": [],
   "source": [
    "# renvoie la concatenation de deux chaines et les arranges dans l'ordre alphabetique\n",
    "def M(str1 , str2):\n",
    "    \n",
    "    str3= sorted(str1 + str2)\n",
    "    print(str3)\n",
    "    res=''.join(str3)\n",
    "    \n",
    "    return res  \n",
    "\n",
    "N=M('abc','vgb')\n",
    "print(N)"
   ]
  },
  {
   "cell_type": "code",
   "execution_count": 63,
   "id": "943b0a30",
   "metadata": {},
   "outputs": [
    {
     "name": "stdout",
     "output_type": "stream",
     "text": [
      "abeklopqss\n"
     ]
    }
   ],
   "source": [
    "# Arrange dans l'ordre alphabetique avec des repetitions des lettres\n",
    "def S(str):\n",
    "    a=''.join(sorted(str))  \n",
    "    \n",
    "    return a\n",
    "N=S('aboepksslq')\n",
    "print(N)"
   ]
  },
  {
   "cell_type": "code",
   "execution_count": null,
   "id": "c45a0db0",
   "metadata": {},
   "outputs": [],
   "source": [
    "# Cette fonction arrane chacune deux chaines avant de les cococantener \n",
    "def M(str1 , str2):\n",
    "    \n",
    "        astr1= ''.join(sorted(str1)) # range la première chaine\n",
    "        astr2= ''.join(sorted(str2))\n",
    "        print(astr1)\n",
    "        print(astr2)\n",
    "        astr= sorted(astr1 + astr2) # range dans l'ordre alphabetique la chaine \n",
    "\n",
    "        res=''.join(astr)\n",
    "\n",
    "        return res  \n",
    "\n",
    "N=M('abc','vgb')\n",
    "print(N)"
   ]
  },
  {
   "cell_type": "code",
   "execution_count": null,
   "id": "ae5b04ec",
   "metadata": {},
   "outputs": [],
   "source": [
    "# C'est une fonction qui cherche une voyelle dans la phrase\n",
    "def voyelle(chaine):\n",
    "    for mystr in chaine:\n",
    "        if mystr in \"AEIOUYaeiouy\":\n",
    "            print(\"la letttre\",  mystr, \"est une voyelle\")\n",
    "    #return True\n",
    "voyelle('bonjour')"
   ]
  },
  {
   "cell_type": "code",
   "execution_count": null,
   "id": "45939e9d",
   "metadata": {},
   "outputs": [],
   "source": [
    "def cptvowel(chaine):\n",
    "    list_voyelle=\"AEIOUYaeiouy\"\n",
    "    c=0\n",
    "    for i in chaine:\n",
    "        if i in list_voyelle:\n",
    "            c = c+1\n",
    "    print(\"il ya\", c, \"voyelle\" )\n",
    "\n",
    "cptvowel('la vie est belle ici et tout marhe bien')       \n",
    "        \n",
    "    \n",
    "\"\"\" mot=\"quelconque\"\n",
    "list_voyelle=\"AEIOUYaeiouy\"\n",
    "nb_voyelle=0\n",
    "for lettre in mot:\n",
    "    if lettre in list_voyelle:\n",
    "        \n",
    "        nb_voyelle+=1\n",
    "if nb_voyelle==0:\n",
    "    print(\" il n'y a pas de voyelle dans le mot\", \" + mot+ \")\n",
    "elif nb_voyelle==1:\n",
    "    print(\"il n' y a qu'une seule voyelle dans le mot\" \"+ mot +\")\n",
    "else:\n",
    "    print(\"le mot\", \"contient \" + str(nb_voyelle) + \" voyelles\") \"\"\""
   ]
  },
  {
   "cell_type": "code",
   "execution_count": 1,
   "id": "94092fc8",
   "metadata": {},
   "outputs": [
    {
     "data": {
      "text/plain": [
       "True"
      ]
     },
     "execution_count": 1,
     "metadata": {},
     "output_type": "execute_result"
    }
   ],
   "source": [
    "#Ce code permet dire true, s'il y a une voyelle dans la phrase et faux sinon.\n",
    "def isVowel(phrase):\n",
    "    list_voyelle=\"AEIOUYaeiouy\"\n",
    "    for voyelle in phrase:\n",
    "        if voyelle in list_voyelle:\n",
    "            return True\n",
    "    return False\n",
    "isVowel('hello world')"
   ]
  },
  {
   "cell_type": "code",
   "execution_count": null,
   "id": "05f276e3",
   "metadata": {},
   "outputs": [],
   "source": [
    "#C'est une fonction qui lit un mot dans le bon sens comme dans le sens contraire \n",
    "def palindrome(mot):\n",
    "    nor_sens = mot\n",
    "    t = len(mot)\n",
    "    rev_sens = ''\n",
    "    for i in range(len(mot)):\n",
    "        rev_sens = rev_sens + mot[t-1]\n",
    "        t = t-1\n",
    "        if t == 0:\n",
    "            break\n",
    "    print(rev_sens)\n",
    "    \n",
    "    \n",
    "palindrome(\"je suis ici\")\n",
    "    \n",
    "        \n",
    "    "
   ]
  },
  {
   "cell_type": "code",
   "execution_count": 61,
   "id": "4bdfbac3",
   "metadata": {},
   "outputs": [
    {
     "name": "stdout",
     "output_type": "stream",
     "text": [
      "il y a  1 monde dans la phrase\n"
     ]
    }
   ],
   "source": [
    "# Ce code permet de dire le nombre de mot qui se trouve dans une phrase en donnant une phrase et un mot\n",
    "def textword(phrase,mot):\n",
    "    phrase = phrase.split(' ')\n",
    "    \n",
    "    nb_mot=0\n",
    "    for a in phrase:         #range(len(phrase)):\n",
    "        if a==mot:\n",
    "            nb_mot+=1\n",
    "    print(\"il y a \", nb_mot, mot, \"dans la phrase\")\n",
    "#textword([\"comment\", \"allez\", \"vous\", \"vous\"], \"vous\")\n",
    "textword(\"bonjour tout  le monde \", \"monde\")\n",
    "\n"
   ]
  },
  {
   "cell_type": "code",
   "execution_count": null,
   "id": "925d90d8",
   "metadata": {},
   "outputs": [],
   "source": [
    "# ce bout de code donne le score d'un jeu dans un tuple de 10\n",
    "tuple = (1,2,3,4,5,6,7,8,9,10)\n",
    "\n",
    "print('the lowest possible score is', tuple[0], 'and  the  highest possible score  is',  tuple[9])\n",
    "for i in tuple:\n",
    "    print(\" A judge can give a gymnast \", i)\n"
   ]
  },
  {
   "cell_type": "code",
   "execution_count": null,
   "id": "cca62913",
   "metadata": {},
   "outputs": [],
   "source": []
  }
 ],
 "metadata": {
  "kernelspec": {
   "display_name": "Python 3",
   "language": "python",
   "name": "python3"
  },
  "language_info": {
   "codemirror_mode": {
    "name": "ipython",
    "version": 3
   },
   "file_extension": ".py",
   "mimetype": "text/x-python",
   "name": "python",
   "nbconvert_exporter": "python",
   "pygments_lexer": "ipython3",
   "version": "3.8.8"
  }
 },
 "nbformat": 4,
 "nbformat_minor": 5
}
