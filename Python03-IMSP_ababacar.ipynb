{
 "cells": [
  {
   "cell_type": "code",
   "execution_count": null,
   "id": "da5252d3",
   "metadata": {},
   "outputs": [],
   "source": [
    "def M(str1 , str2):\n",
    "    \n",
    "    str3= sorted(str1 + str2)\n",
    "    print(str3)\n",
    "    res=''.join(str3)\n",
    "    \n",
    "    return res  \n",
    "\n",
    "N=M('abc','vgb')\n",
    "print(N)"
   ]
  },
  {
   "cell_type": "code",
   "execution_count": null,
   "id": "943b0a30",
   "metadata": {},
   "outputs": [],
   "source": [
    "def S(str):\n",
    "    a=''.join(sorted(str))  \n",
    "    \n",
    "    return a\n",
    "N=S('aboepkslq')\n",
    "print(N)"
   ]
  },
  {
   "cell_type": "code",
   "execution_count": null,
   "id": "c45a0db0",
   "metadata": {},
   "outputs": [],
   "source": [
    "def M(str1 , str2):\n",
    "    \n",
    "        astr1= ''.join(sorted(str1))\n",
    "        astr2= ''.join(sorted(str2))\n",
    "        print(astr1)\n",
    "        print(astr2)\n",
    "        astr= sorted(astr1 + astr2)\n",
    "\n",
    "        res=''.join(astr)\n",
    "\n",
    "        return res  \n",
    "\n",
    "N=M('abc','vgb')\n",
    "print(N)"
   ]
  },
  {
   "cell_type": "code",
   "execution_count": null,
   "id": "ae5b04ec",
   "metadata": {},
   "outputs": [],
   "source": [
    "def voyelle(chaine):\n",
    "    for mystr in chaine:\n",
    "        if mystr in \"AEIOUYaeiouy\":\n",
    "            print(\"la letttre\",  mystr, \"est une voyelle\")\n",
    "    #return True\n",
    "voyelle('bonjour')"
   ]
  },
  {
   "cell_type": "code",
   "execution_count": null,
   "id": "203137a4",
   "metadata": {},
   "outputs": [],
   "source": [
    "mot=\"quelconque\"\n",
    "list_voyelle=\"AEIOUYaeiouy\"\n",
    "nb_voyelle=0\n",
    "for lettre in mot:\n",
    "    if lettre in list_voyelle:\n",
    "        \n",
    "        nb_voyelle+=1\n",
    "if nb_voyelle==0:\n",
    "    print(\" il n'y a pas de voyelle dans le mot\", \" + mot+ \")\n",
    "elif nb_voyelle==1:\n",
    "    print(\"il n' y a qu'une seule voyelle dans le mot\" \"+ mot +\")\n",
    "else:\n",
    "    print(\"le mot\", \"contient \" + str(nb_voyelle) + \" voyelles\")"
   ]
  },
  {
   "cell_type": "code",
   "execution_count": null,
   "id": "94092fc8",
   "metadata": {},
   "outputs": [],
   "source": [
    "def isVowel(phrase):\n",
    "    list_voyelle=\"AEIOUYaeiouy\"\n",
    "    for voyelle in phrase:\n",
    "        if voyelle in list_voyelle:\n",
    "            return True\n",
    "    return False\n",
    "isVowel('hello world')"
   ]
  }
 ],
 "metadata": {
  "kernelspec": {
   "display_name": "Python 3",
   "language": "python",
   "name": "python3"
  },
  "language_info": {
   "codemirror_mode": {
    "name": "ipython",
    "version": 3
   },
   "file_extension": ".py",
   "mimetype": "text/x-python",
   "name": "python",
   "nbconvert_exporter": "python",
   "pygments_lexer": "ipython3",
   "version": "3.8.8"
  }
 },
 "nbformat": 4,
 "nbformat_minor": 5
}
