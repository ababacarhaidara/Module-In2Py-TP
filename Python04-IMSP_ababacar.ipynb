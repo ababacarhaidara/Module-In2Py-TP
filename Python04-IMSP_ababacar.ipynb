{
 "cells": [
  {
   "cell_type": "code",
   "execution_count": null,
   "id": "62ebd365",
   "metadata": {},
   "outputs": [],
   "source": [
    "# 1 )\n",
    "dic={'telephone': 200000, 'chargeur': 1500, 'ecouteur': 1000, 'ordinateur hp': 250000, 'ordinateur Dell': 175000}\n",
    "\n",
    "dic['Techno']= 750000\n",
    "\n",
    "dic['blutooth']= dic.pop('chargeur')\n",
    "\n",
    "for produit, prix in dic.items():\n",
    "    print('ce', produit, 'coute', prix, 'francs CFA' )"
   ]
  },
  {
   "cell_type": "code",
   "execution_count": null,
   "id": "098b9b8e",
   "metadata": {},
   "outputs": [],
   "source": [
    "# 2 )\n",
    "import re\n",
    "tel={'ali': 61000000, 'Dupont': 64000000, 'Doum': 97000000, 'Lise': 98000000}\n",
    "\n",
    "tel['aba']= 94110000\n",
    "for i \n",
    "print(tel)de\n",
    "\n",
    "for name, num in tel.items():\n",
    "    print(\"il s'appelle \", name, \"son numero de telephone est \"  , num)\n",
    "\n"
   ]
  },
  {
   "cell_type": "code",
   "execution_count": 16,
   "id": "8cf86830",
   "metadata": {},
   "outputs": [
    {
     "name": "stdout",
     "output_type": "stream",
     "text": [
      "9\n"
     ]
    }
   ],
   "source": [
    "# 3 )\n",
    "map=[1, 2, 4, 5, 9, 7,3,8, ['lundi', 'mardi', 'mercredi']]\n",
    "print(len(map))\n"
   ]
  },
  {
   "cell_type": "code",
   "execution_count": 20,
   "id": "caa70066",
   "metadata": {},
   "outputs": [],
   "source": [
    "#4 )\n",
    "def find_longest_word(list):\n",
    "    \n",
    "    return \n",
    "find_longest_word('bonjour')\n",
    "\n",
    "    \n",
    "    \n"
   ]
  }
 ],
 "metadata": {
  "kernelspec": {
   "display_name": "Python 3",
   "language": "python",
   "name": "python3"
  },
  "language_info": {
   "codemirror_mode": {
    "name": "ipython",
    "version": 3
   },
   "file_extension": ".py",
   "mimetype": "text/x-python",
   "name": "python",
   "nbconvert_exporter": "python",
   "pygments_lexer": "ipython3",
   "version": "3.8.8"
  }
 },
 "nbformat": 4,
 "nbformat_minor": 5
}
