{
 "cells": [
  {
   "cell_type": "code",
   "execution_count": 1,
   "id": "271714e5",
   "metadata": {},
   "outputs": [],
   "source": [
    "width=17\n",
    "height=12.0\n",
    "delimiter='.'"
   ]
  },
  {
   "cell_type": "code",
   "execution_count": 3,
   "id": "73364f3e",
   "metadata": {},
   "outputs": [],
   "source": [
    "a=width/2 # renvoie un reel"
   ]
  },
  {
   "cell_type": "code",
   "execution_count": null,
   "id": "f85703ca",
   "metadata": {},
   "outputs": [],
   "source": [
    "type(a)"
   ]
  },
  {
   "cell_type": "code",
   "execution_count": 5,
   "id": "d3cf4b1b",
   "metadata": {},
   "outputs": [],
   "source": [
    "b=width/2.0 # renvoie un reel"
   ]
  },
  {
   "cell_type": "code",
   "execution_count": null,
   "id": "3aeaf6c9",
   "metadata": {},
   "outputs": [],
   "source": [
    "type(b)"
   ]
  },
  {
   "cell_type": "code",
   "execution_count": 7,
   "id": "ee6b966f",
   "metadata": {},
   "outputs": [],
   "source": [
    "c=height/3 # renvoie un reel"
   ]
  },
  {
   "cell_type": "code",
   "execution_count": null,
   "id": "143b9b21",
   "metadata": {},
   "outputs": [],
   "source": [
    "type(c)"
   ]
  },
  {
   "cell_type": "code",
   "execution_count": 9,
   "id": "df879e25",
   "metadata": {},
   "outputs": [],
   "source": [
    "d=1+2*5 # renoie un entier"
   ]
  },
  {
   "cell_type": "code",
   "execution_count": null,
   "id": "cf302c9d",
   "metadata": {},
   "outputs": [],
   "source": [
    "print(d)"
   ]
  },
  {
   "cell_type": "code",
   "execution_count": null,
   "id": "6ee85374",
   "metadata": {},
   "outputs": [],
   "source": [
    "type(d)"
   ]
  },
  {
   "cell_type": "code",
   "execution_count": 12,
   "id": "ab705aff",
   "metadata": {},
   "outputs": [],
   "source": [
    "e=delimiter*5 # renvoie une chaine de caractere"
   ]
  },
  {
   "cell_type": "code",
   "execution_count": null,
   "id": "92b5738e",
   "metadata": {},
   "outputs": [],
   "source": [
    "print(e)"
   ]
  },
  {
   "cell_type": "code",
   "execution_count": null,
   "id": "e57035e4",
   "metadata": {},
   "outputs": [],
   "source": [
    "type(e)"
   ]
  },
  {
   "cell_type": "code",
   "execution_count": 15,
   "id": "516b891e",
   "metadata": {},
   "outputs": [],
   "source": [
    "pi = 3.1415926535897931\n",
    "\n",
    "volume=5\n",
    "racine=cbrt((3*volume)/4*pi)"
   ]
  },
  {
   "cell_type": "code",
   "execution_count": null,
   "id": "513fc95d",
   "metadata": {},
   "outputs": [],
   "source": []
  },
  {
   "cell_type": "code",
   "execution_count": null,
   "id": "a420d44a",
   "metadata": {},
   "outputs": [],
   "source": [
    "print(racine)"
   ]
  },
  {
   "cell_type": "code",
   "execution_count": null,
   "id": "cd2d0404",
   "metadata": {},
   "outputs": [],
   "source": []
  }
 ],
 "metadata": {
  "kernelspec": {
   "display_name": "Python 3",
   "language": "python",
   "name": "python3"
  },
  "language_info": {
   "codemirror_mode": {
    "name": "ipython",
    "version": 3
   },
   "file_extension": ".py",
   "mimetype": "text/x-python",
   "name": "python",
   "nbconvert_exporter": "python",
   "pygments_lexer": "ipython3",
   "version": "3.8.8"
  }
 },
 "nbformat": 4,
 "nbformat_minor": 5
}
